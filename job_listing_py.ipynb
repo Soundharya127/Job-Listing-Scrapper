{
  "cells": [
    {
      "cell_type": "markdown",
      "metadata": {
        "id": "view-in-github",
        "colab_type": "text"
      },
      "source": [
        "<a href=\"https://colab.research.google.com/github/Soundharya127/Job-Listing-Scrapper/blob/main/job_listing_py.ipynb\" target=\"_parent\"><img src=\"https://colab.research.google.com/assets/colab-badge.svg\" alt=\"Open In Colab\"/></a>"
      ]
    },
    {
      "cell_type": "code",
      "execution_count": null,
      "metadata": {
        "colab": {
          "base_uri": "https://localhost:8080/"
        },
        "id": "iJQO4oqdOuRg",
        "outputId": "8b4d9f36-84ed-4e34-c709-734d4cb11993"
      },
      "outputs": [
        {
          "output_type": "stream",
          "name": "stdout",
          "text": [
            "Collecting apify_client\n",
            "  Downloading apify_client-1.8.1-py3-none-any.whl.metadata (4.3 kB)\n",
            "Requirement already satisfied: pandas in /usr/local/lib/python3.10/dist-packages (2.2.2)\n",
            "Requirement already satisfied: openpyxl in /usr/local/lib/python3.10/dist-packages (3.1.5)\n",
            "Collecting apify-shared>=1.1.2 (from apify_client)\n",
            "  Downloading apify_shared-1.2.1-py3-none-any.whl.metadata (2.5 kB)\n",
            "Requirement already satisfied: httpx>=0.25.0 in /usr/local/lib/python3.10/dist-packages (from apify_client) (0.28.0)\n",
            "Requirement already satisfied: more_itertools>=10.0.0 in /usr/local/lib/python3.10/dist-packages (from apify_client) (10.5.0)\n",
            "Requirement already satisfied: numpy>=1.22.4 in /usr/local/lib/python3.10/dist-packages (from pandas) (1.26.4)\n",
            "Requirement already satisfied: python-dateutil>=2.8.2 in /usr/local/lib/python3.10/dist-packages (from pandas) (2.8.2)\n",
            "Requirement already satisfied: pytz>=2020.1 in /usr/local/lib/python3.10/dist-packages (from pandas) (2024.2)\n",
            "Requirement already satisfied: tzdata>=2022.7 in /usr/local/lib/python3.10/dist-packages (from pandas) (2024.2)\n",
            "Requirement already satisfied: et-xmlfile in /usr/local/lib/python3.10/dist-packages (from openpyxl) (2.0.0)\n",
            "Requirement already satisfied: anyio in /usr/local/lib/python3.10/dist-packages (from httpx>=0.25.0->apify_client) (3.7.1)\n",
            "Requirement already satisfied: certifi in /usr/local/lib/python3.10/dist-packages (from httpx>=0.25.0->apify_client) (2024.8.30)\n",
            "Requirement already satisfied: httpcore==1.* in /usr/local/lib/python3.10/dist-packages (from httpx>=0.25.0->apify_client) (1.0.7)\n",
            "Requirement already satisfied: idna in /usr/local/lib/python3.10/dist-packages (from httpx>=0.25.0->apify_client) (3.10)\n",
            "Requirement already satisfied: h11<0.15,>=0.13 in /usr/local/lib/python3.10/dist-packages (from httpcore==1.*->httpx>=0.25.0->apify_client) (0.14.0)\n",
            "Requirement already satisfied: six>=1.5 in /usr/local/lib/python3.10/dist-packages (from python-dateutil>=2.8.2->pandas) (1.16.0)\n",
            "Requirement already satisfied: sniffio>=1.1 in /usr/local/lib/python3.10/dist-packages (from anyio->httpx>=0.25.0->apify_client) (1.3.1)\n",
            "Requirement already satisfied: exceptiongroup in /usr/local/lib/python3.10/dist-packages (from anyio->httpx>=0.25.0->apify_client) (1.2.2)\n",
            "Downloading apify_client-1.8.1-py3-none-any.whl (73 kB)\n",
            "\u001b[2K   \u001b[90m━━━━━━━━━━━━━━━━━━━━━━━━━━━━━━━━━━━━━━━━\u001b[0m \u001b[32m73.5/73.5 kB\u001b[0m \u001b[31m6.3 MB/s\u001b[0m eta \u001b[36m0:00:00\u001b[0m\n",
            "\u001b[?25hDownloading apify_shared-1.2.1-py3-none-any.whl (12 kB)\n",
            "Installing collected packages: apify-shared, apify_client\n",
            "Successfully installed apify-shared-1.2.1 apify_client-1.8.1\n",
            "Fetching results from Glassdoor...\n",
            "Fetching results from Indeed...\n",
            "Fetching results from LinkedIn...\n",
            "Results saved to job_listings_20241206_140132.xlsx\n"
          ]
        }
      ],
      "source": [
        "# Install required libraries if they aren't already installed\n",
        "!pip install apify_client pandas openpyxl\n",
        "\n",
        "from apify_client import ApifyClient\n",
        "import pandas as pd\n",
        "from datetime import datetime\n",
        "\n",
        "# Initialize the ApifyClient with your API token\n",
        "client = ApifyClient(\"apify_api_yoZfmg6srk5q3a2pAzcNUZdDx83cfI4pPEqJ\")\n",
        "\n",
        "# Define the platforms and their corresponding search configurations\n",
        "platforms = [\n",
        "    {\n",
        "        'name': 'Glassdoor',\n",
        "        'baseUrl': 'https://www.glassdoor.com',\n",
        "        'actor_id': 't2FNNV3J6mvckgV2g',  # Actor ID for Glassdoor\n",
        "        'input': {\n",
        "            \"keyword\": \"Software Engineer\",  # Ensure the keyword is passed correctly\n",
        "            \"maxItems\": 20,\n",
        "            \"baseUrl\": \"https://www.glassdoor.com\",\n",
        "            \"location\": \"Remote\",\n",
        "            \"salaryFrom\": 0,\n",
        "        }\n",
        "    },\n",
        "    {\n",
        "        'name': 'Indeed',\n",
        "        'baseUrl': 'https://www.indeed.com',\n",
        "        'actor_id': 'hMvNSpz3JnHgl5jkh',  # Replace with Indeed Actor ID\n",
        "        'input': {\n",
        "            \"keyword\": \"Software Engineer\",  # Ensure the keyword is passed correctly\n",
        "            \"maxItems\": 20,\n",
        "            \"baseUrl\": \"https://www.indeed.com\",\n",
        "            \"location\": \"Remote\",\n",
        "            \"salaryFrom\": 0,\n",
        "        }\n",
        "    },\n",
        "    {\n",
        "        'name': 'LinkedIn',\n",
        "        'baseUrl': 'https://www.linkedin.com',\n",
        "        'actor_id': 'hjMwgauUjBqelnLWA',  # Replace with LinkedIn Actor ID\n",
        "        'input': {\n",
        "            \"keyword\": \"Software Engineer\",  # Ensure the keyword is passed correctly\n",
        "            \"maxItems\": 20,\n",
        "            \"baseUrl\": \"https://www.linkedin.com\",\n",
        "            \"location\": \"United States\",\n",
        "            \"salaryFrom\": 0,\n",
        "        }\n",
        "    }\n",
        "]\n",
        "\n",
        "try:\n",
        "    all_results = []\n",
        "\n",
        "    # Iterate through each platform and fetch the results\n",
        "    for platform in platforms:\n",
        "        print(f\"Fetching results from {platform['name']}...\")\n",
        "\n",
        "        run = client.actor(platform['actor_id']).call(run_input=platform['input'])\n",
        "\n",
        "        # Check if the actor run was successful\n",
        "        if run['status'] != 'SUCCEEDED':\n",
        "            print(f\"Actor run for {platform['name']} failed with status: {run['status']}\")\n",
        "        else:\n",
        "            # Fetch the results and add to the final list\n",
        "            results = [item for item in client.dataset(run[\"defaultDatasetId\"]).iterate_items()]\n",
        "            if results:\n",
        "                all_results.extend(results)\n",
        "\n",
        "    # If there are results, save them into an Excel file\n",
        "    if all_results:\n",
        "        df = pd.DataFrame(all_results)\n",
        "        filename = f\"job_listings_{datetime.now().strftime('%Y%m%d_%H%M%S')}.xlsx\"\n",
        "        df.to_excel(filename, index=False)\n",
        "        print(f\"Results saved to {filename}\")\n",
        "    else:\n",
        "        print(\"No results found from any platform.\")\n",
        "\n",
        "except Exception as e:\n",
        "    print(f\"An error occurred: {e}\")\n"
      ]
    }
  ],
  "metadata": {
    "colab": {
      "provenance": [],
      "authorship_tag": "ABX9TyPdBeIV2WhVHi0e9TlbcYWd",
      "include_colab_link": true
    },
    "kernelspec": {
      "display_name": "Python 3",
      "name": "python3"
    },
    "language_info": {
      "name": "python"
    }
  },
  "nbformat": 4,
  "nbformat_minor": 0
}